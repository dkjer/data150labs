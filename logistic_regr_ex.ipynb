{
 "cells": [
  {
   "cell_type": "markdown",
   "metadata": {},
   "source": [
    "# Logistic Regression Example\n",
    "See: [sklearn documentation on LogisicRegression](http://scikit-learn.org/stable/modules/generated/sklearn.linear_model.LogisticRegression.html#sklearn.linear_model.LogisticRegression)"
   ]
  },
  {
   "cell_type": "code",
   "execution_count": 1,
   "metadata": {},
   "outputs": [
    {
     "name": "stdout",
     "output_type": "stream",
     "text": [
      "Probabilties for each of the classes, No and Yes in order\n[[0.99251209 0.00748791]]\n[[0.4474996 0.5525004]]\n[[0.00492494 0.99507506]]\n"
     ]
    }
   ],
   "source": [
    "\n",
    "# This line configures matplotlib to show figures embedded in the notebook, \n",
    "# instead of opening a new window for each figure. More about that later. \n",
    "# If you are using an old version of IPython, try using '%pylab inline' instead.\n",
    "%matplotlib inline"
   ]
  },
  {
   "cell_type": "code",
   "execution_count": 2,
   "metadata": {},
   "outputs": [
    {
     "name": "stdout",
     "output_type": "stream",
     "text": [
      "Probabilties for each of the classes, No and Yes in order\n[[0.99251209 0.00748791]]\n[[0.4474996 0.5525004]]\n[[0.00492494 0.99507506]]\n"
     ]
    }
   ],
   "source": [
    "from sklearn.linear_model import LogisticRegression\n",
    "import pandas as pd\n",
    "import numpy as np\n",
    "import seaborn as sns\n",
    "import matplotlib.pyplot as plt"
   ]
  },
  {
   "cell_type": "markdown",
   "metadata": {},
   "source": [
    "Load our dataset, and take a look at the head."
   ]
  },
  {
   "cell_type": "code",
   "execution_count": 3,
   "metadata": {},
   "outputs": [
    {
     "name": "stdout",
     "output_type": "stream",
     "text": [
      "Probabilties for each of the classes, No and Yes in order\n[[0.99251209 0.00748791]]\n[[0.4474996 0.5525004]]\n[[0.00492494 0.99507506]]\n"
     ]
    }
   ],
   "source": [
    "default = pd.read_csv(\"default1.csv\")\n",
    "default.head()"
   ]
  },
  {
   "cell_type": "code",
   "execution_count": 4,
   "metadata": {},
   "outputs": [
    {
     "name": "stdout",
     "output_type": "stream",
     "text": [
      "Probabilties for each of the classes, No and Yes in order\n[[0.99251209 0.00748791]]\n[[0.4474996 0.5525004]]\n[[0.00492494 0.99507506]]\n"
     ]
    }
   ],
   "source": [
    "\n",
    "#default['default'] = default['default'].replace(['Yes'],1)\n",
    "#default['default'] = default['default'].replace(['No'],0)\n",
    "#plt.interactive(True)\n",
    "sns.set(font_scale=2)\n",
    "g1 = sns.lmplot('balance', 'income', data=default.sample(1000), hue='default', markers = ['+', 'o'], fit_reg=False)\n",
    "g1.fig.set_size_inches(12,6)\n",
    "plt.ylim([0,70000])\n",
    "plt.xlim([-100,3500])\n",
    "#plt.figure()\n",
    "plt.show()\n"
   ]
  },
  {
   "cell_type": "code",
   "execution_count": 5,
   "metadata": {},
   "outputs": [
    {
     "name": "stdout",
     "output_type": "stream",
     "text": [
      "Probabilties for each of the classes, No and Yes in order\n[[0.99251209 0.00748791]]\n[[0.4474996 0.5525004]]\n[[0.00492494 0.99507506]]\n"
     ]
    }
   ],
   "source": [
    "sns.boxplot(x='student', y='balance', data=default, hue='default')\n",
    "plt.show()"
   ]
  },
  {
   "cell_type": "code",
   "execution_count": 6,
   "metadata": {},
   "outputs": [
    {
     "name": "stdout",
     "output_type": "stream",
     "text": [
      "Probabilties for each of the classes, No and Yes in order\n[[0.99251209 0.00748791]]\n[[0.4474996 0.5525004]]\n[[0.00492494 0.99507506]]\n"
     ]
    }
   ],
   "source": [
    "\n",
    "lr = LogisticRegression()\n",
    "# Required input variables to LinearRegression\n",
    "# X : {array-like, sparse matrix}, shape (n_samples, n_features)\n",
    "# y : array-like, shape (n_samples,)\n",
    "X = np.column_stack((np.ones(len(default)), default['balance']))\n",
    "y = default['default']\n",
    "lr.fit(X, y)\n",
    "print(\"Coefficients are \", lr.coef_)\n",
    "# Note intercept is beta0 given above\n",
    "print(\"Checking the y-intercept \", lr.intercept_)\n",
    "# Note the score is not retunred by the LinearRegression object. It has to be computed from the input.\n",
    "print(\"Score is \", lr.score(X, y))"
   ]
  },
  {
   "cell_type": "code",
   "execution_count": 7,
   "metadata": {},
   "outputs": [
    {
     "name": "stdout",
     "output_type": "stream",
     "text": [
      "Probabilties for each of the classes, No and Yes in order\n[[0.99251209 0.00748791]]\n[[0.4474996 0.5525004]]\n[[0.00492494 0.99507506]]\n"
     ]
    }
   ],
   "source": [
    "# Predicting default probabilities:\n",
    "\"\"\"\n",
    "Parameters:\t\n",
    "X : array-like, shape = [n_samples, n_features]\n",
    "Returns:\t\n",
    "T : array-like, shape = [n_samples, n_classes]\n",
    "Returns the probability of the sample for each class in the model, ordered.\n",
    "\"\"\"\n",
    "# predict 1000 dollar balance default\n",
    "print(\"Probabilties for each of the classes, No and Yes in order\")\n",
    "print(lr.predict_proba([[1, 1000]])) # 99 percent chance no default\n",
    "# predict 2000 dollar balance default\n",
    "print(lr.predict_proba([[1, 2000]])) ## 55 percent chance default\n",
    "# predict 3000 dollar balance default\n",
    "print(lr.predict_proba([[1, 3000]])) ## >99 percent chance default\n",
    "\n",
    "\n",
    "\n",
    "\n"
   ]
  }
 ],
 "metadata": {
  "language": "python"
 },
 "nbformat": 4,
 "nbformat_minor": 2
}
