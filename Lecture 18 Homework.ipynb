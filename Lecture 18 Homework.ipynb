{
 "cells": [
  {
   "cell_type": "markdown",
   "metadata": {},
   "source": [
    "$6$. Suppose we collect data for a group of students in a statistics class with variables $X_1$ = hours studied, $X_2$ = undergrad GPA, and $Y$ = receive an A.  We fit a logistic regression and produce estimated coefficient, $\\widehat\\beta_0$ = −6, $\\widehat\\beta_1$ = 0.05, $\\widehat\\beta_2$ = 1.<br>\n",
    "> (a) Estimate the probability that a student who studies for 40 h and has an undergrad GPA of 3.5 gets an A in the class.<br><br>\n",
    "> (b) How many hours would the student in part (a) need to study to have a 50 % chance of getting an A in the class?\n",
    "\n",
    "***"
   ]
  },
  {
   "cell_type": "markdown",
   "metadata": {},
   "source": [
    "#### (a) Estimate the probability that a student who studies for 40 h and has an undergrad GPA of 3.5 gets an A in the class.<br>\n",
    "<center>$\\LARGE p(X)=\\frac{{e}^{\\hat\\beta_0+\\hat\\beta_1 X_1+\\hat\\beta_2 X_2}}{1+{e}^{\\hat\\beta_0+\\hat\\beta_1 X_1+\\hat\\beta_2 X_2}}$</center><br>\n",
    "<center>$Where:\n",
    "X_1=HoursStudied, X_2=UndergradGPA, \\hat\\beta_0=−6, \\hat\\beta_1=0.05, \\hat\\beta_2=1\n",
    "$</center>"
   ]
  },
  {
   "cell_type": "markdown",
   "metadata": {},
   "source": [
    "<center>$\\large X=[40hours,3.5GPA] \\\\\n",
    "\\Large p(X)=\\frac{{e}^{−6+0.05X_1+X_2}}{1+{e}^{−6+0.05X_1+X_2}} \\\\\n",
    "\\Large =\\frac{{e}^{−6+0.05\\times40+3.5}}{1+{e}^{−6+0.05\\times40+3.5}}\\\\\n",
    "\\Large =\\frac{{e}^{−0.5}}{1+{e}^{−0.5}}\\\\\n",
    "\\large =37.75\\%\n",
    "$</center>\n"
   ]
  },
  {
   "cell_type": "markdown",
   "metadata": {},
   "source": [
    "#### (b) How many hours would the student in part (a) need to study to have a 50 % chance of getting an A in the class?<br>\n",
    "<center>$\\large X=[X_1hours,3.5GPA] \\\\\n",
    "\\Large p(X)=\\frac{{e}^{−6+0.05X_1+X_2}}{1+{e}^{−6+0.05X_1+X_2}} \\\\\n",
    "\\Large 0.50=\\frac{{e}^{−6+0.05X_1+3.5}}{1+{e}^{−6+0.05X_1+3.5}} \\\\\n",
    "\\Large 0.50\\times(1+{e}^{−2.5+0.05X_1})={e}^{−2.5+0.05X_1} \\\\\n",
    "\\Large 0.50+0.50\\times{e}^{−2.5+0.05X_1}={e}^{−2.5+0.05X_1} \\\\\n",
    "\\Large 0.50=0.50\\times{e}^{−2.5+0.05X_1} \\\\\n",
    "\\Large \\ln(1)=−2.5+0.05X_1 \\\\\n",
    "\\Large 2.5=0.05X_1 \\\\\n",
    "\\Large X_1=\\frac{2.5}{0.05}=50hours\n",
    "$</center>"
   ]
  },
  {
   "cell_type": "markdown",
   "metadata": {},
   "source": [
    "$8$. Suppose that we take a data set, divide it into equally-sized training and test sets, and then try out two different classification procedures. First we use logistic regression and get an error rate of 20 % on the training data and 30 % on the test data. Next we use 1-nearest neigh- bors (i.e. $K$ = 1) and get an average error rate (averaged over both test and training data sets) of 18%. Based on these results, which method should we prefer to use for classification of new observations?<br>Why?\n",
    "***"
   ]
  },
  {
   "cell_type": "markdown",
   "metadata": {},
   "source": [
    "<h4>Given:<br><br>\n",
    "\n",
    "Logistic regression: 20% training error rate, 30% test error rate<br>\n",
    "KNN($K$=1): average error rate of 18%<br><br>\n",
    "\n",
    "For KNN with $K$=1, the training error rate is 0% since for any training observation, its nearest neighbor will be the response itself. Therefore, KNN must have a test error rate of 36%. We should prefer the logistic regression classification due to its lower test error rate of 30%.</h4>"
   ]
  },
  {
   "cell_type": "code",
   "execution_count": null,
   "metadata": {},
   "outputs": [],
   "source": []
  }
 ],
 "metadata": {
  "kernelspec": {
   "display_name": "Python 3",
   "language": "python",
   "name": "python3"
  },
  "language_info": {
   "codemirror_mode": {
    "name": "ipython",
    "version": 3
   },
   "file_extension": ".py",
   "mimetype": "text/x-python",
   "name": "python",
   "nbconvert_exporter": "python",
   "pygments_lexer": "ipython3",
   "version": "3.6.4"
  }
 },
 "nbformat": 4,
 "nbformat_minor": 2
}
