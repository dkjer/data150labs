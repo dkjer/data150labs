{
 "cells": [
  {
   "cell_type": "markdown",
   "metadata": {},
   "source": [
    "# Student Grades Homework"
   ]
  },
  {
   "cell_type": "markdown",
   "metadata": {},
   "source": [
    "#### Boilerplate python modules:"
   ]
  },
  {
   "cell_type": "code",
   "execution_count": 1,
   "metadata": {},
   "outputs": [],
   "source": [
    "# This line configures matplotlib to show figures embedded in the notebook.\n",
    "%matplotlib inline\n",
    "from sklearn.linear_model import LogisticRegression\n",
    "import pandas as pd\n",
    "import numpy as np\n",
    "import seaborn as sns\n",
    "import matplotlib.pyplot as plt"
   ]
  },
  {
   "cell_type": "markdown",
   "metadata": {},
   "source": [
    "Load student grades homework, and take a look at it."
   ]
  },
  {
   "cell_type": "code",
   "execution_count": 2,
   "metadata": {},
   "outputs": [
    {
     "data": {
      "text/html": [
       "<div>\n",
       "<style scoped>\n",
       "    .dataframe tbody tr th:only-of-type {\n",
       "        vertical-align: middle;\n",
       "    }\n",
       "\n",
       "    .dataframe tbody tr th {\n",
       "        vertical-align: top;\n",
       "    }\n",
       "\n",
       "    .dataframe thead th {\n",
       "        text-align: right;\n",
       "    }\n",
       "</style>\n",
       "<table border=\"1\" class=\"dataframe\">\n",
       "  <thead>\n",
       "    <tr style=\"text-align: right;\">\n",
       "      <th></th>\n",
       "      <th>Hours</th>\n",
       "      <th>Pass Fail</th>\n",
       "      <th>Grades</th>\n",
       "    </tr>\n",
       "  </thead>\n",
       "  <tbody>\n",
       "    <tr>\n",
       "      <th>0</th>\n",
       "      <td>0.50</td>\n",
       "      <td>FAIL</td>\n",
       "      <td>72.50</td>\n",
       "    </tr>\n",
       "    <tr>\n",
       "      <th>1</th>\n",
       "      <td>0.75</td>\n",
       "      <td>FAIL</td>\n",
       "      <td>73.75</td>\n",
       "    </tr>\n",
       "    <tr>\n",
       "      <th>2</th>\n",
       "      <td>1.00</td>\n",
       "      <td>FAIL</td>\n",
       "      <td>75.00</td>\n",
       "    </tr>\n",
       "    <tr>\n",
       "      <th>3</th>\n",
       "      <td>1.25</td>\n",
       "      <td>FAIL</td>\n",
       "      <td>76.25</td>\n",
       "    </tr>\n",
       "    <tr>\n",
       "      <th>4</th>\n",
       "      <td>1.50</td>\n",
       "      <td>FAIL</td>\n",
       "      <td>77.50</td>\n",
       "    </tr>\n",
       "  </tbody>\n",
       "</table>\n",
       "</div>"
      ],
      "text/plain": [
       "   Hours Pass Fail  Grades\n",
       "0   0.50      FAIL   72.50\n",
       "1   0.75      FAIL   73.75\n",
       "2   1.00      FAIL   75.00\n",
       "3   1.25      FAIL   76.25\n",
       "4   1.50      FAIL   77.50"
      ]
     },
     "execution_count": 2,
     "metadata": {},
     "output_type": "execute_result"
    }
   ],
   "source": [
    "grades = pd.read_csv(\"studentgrades.csv\")\n",
    "grades.head()"
   ]
  },
  {
   "cell_type": "markdown",
   "metadata": {},
   "source": [
    "## Question 1) _What is the association between the number of hours spent studying and the probability that the student will pass the exam?_\n",
    "\n",
    "To answer this, lets look at boxplots of Hours spent studying grouped by whether the student passed or failed."
   ]
  },
  {
   "cell_type": "code",
   "execution_count": 3,
   "metadata": {
    "scrolled": false
   },
   "outputs": [
    {
     "data": {
      "text/html": [
       "<div>\n",
       "<style scoped>\n",
       "    .dataframe tbody tr th:only-of-type {\n",
       "        vertical-align: middle;\n",
       "    }\n",
       "\n",
       "    .dataframe tbody tr th {\n",
       "        vertical-align: top;\n",
       "    }\n",
       "\n",
       "    .dataframe thead tr th {\n",
       "        text-align: left;\n",
       "    }\n",
       "\n",
       "    .dataframe thead tr:last-of-type th {\n",
       "        text-align: right;\n",
       "    }\n",
       "</style>\n",
       "<table border=\"1\" class=\"dataframe\">\n",
       "  <thead>\n",
       "    <tr>\n",
       "      <th></th>\n",
       "      <th colspan=\"8\" halign=\"left\">Grades</th>\n",
       "      <th colspan=\"8\" halign=\"left\">Hours</th>\n",
       "    </tr>\n",
       "    <tr>\n",
       "      <th></th>\n",
       "      <th>count</th>\n",
       "      <th>mean</th>\n",
       "      <th>std</th>\n",
       "      <th>min</th>\n",
       "      <th>25%</th>\n",
       "      <th>50%</th>\n",
       "      <th>75%</th>\n",
       "      <th>max</th>\n",
       "      <th>count</th>\n",
       "      <th>mean</th>\n",
       "      <th>std</th>\n",
       "      <th>min</th>\n",
       "      <th>25%</th>\n",
       "      <th>50%</th>\n",
       "      <th>75%</th>\n",
       "      <th>max</th>\n",
       "    </tr>\n",
       "    <tr>\n",
       "      <th>Pass Fail</th>\n",
       "      <th></th>\n",
       "      <th></th>\n",
       "      <th></th>\n",
       "      <th></th>\n",
       "      <th></th>\n",
       "      <th></th>\n",
       "      <th></th>\n",
       "      <th></th>\n",
       "      <th></th>\n",
       "      <th></th>\n",
       "      <th></th>\n",
       "      <th></th>\n",
       "      <th></th>\n",
       "      <th></th>\n",
       "      <th></th>\n",
       "      <th></th>\n",
       "    </tr>\n",
       "  </thead>\n",
       "  <tbody>\n",
       "    <tr>\n",
       "      <th>FAIL</th>\n",
       "      <td>10.0</td>\n",
       "      <td>76.950</td>\n",
       "      <td>2.443245</td>\n",
       "      <td>72.5</td>\n",
       "      <td>75.3125</td>\n",
       "      <td>78.125</td>\n",
       "      <td>78.9375</td>\n",
       "      <td>79.0</td>\n",
       "      <td>10.0</td>\n",
       "      <td>1.775</td>\n",
       "      <td>0.982132</td>\n",
       "      <td>0.50</td>\n",
       "      <td>1.0625</td>\n",
       "      <td>1.625</td>\n",
       "      <td>2.3750</td>\n",
       "      <td>3.5</td>\n",
       "    </tr>\n",
       "    <tr>\n",
       "      <th>PASS</th>\n",
       "      <td>10.0</td>\n",
       "      <td>89.125</td>\n",
       "      <td>6.010696</td>\n",
       "      <td>80.0</td>\n",
       "      <td>84.3750</td>\n",
       "      <td>90.625</td>\n",
       "      <td>93.4375</td>\n",
       "      <td>97.5</td>\n",
       "      <td>10.0</td>\n",
       "      <td>3.800</td>\n",
       "      <td>1.246105</td>\n",
       "      <td>1.75</td>\n",
       "      <td>2.8750</td>\n",
       "      <td>4.125</td>\n",
       "      <td>4.6875</td>\n",
       "      <td>5.5</td>\n",
       "    </tr>\n",
       "  </tbody>\n",
       "</table>\n",
       "</div>"
      ],
      "text/plain": [
       "          Grades                                                          \\\n",
       "           count    mean       std   min      25%     50%      75%   max   \n",
       "Pass Fail                                                                  \n",
       "FAIL        10.0  76.950  2.443245  72.5  75.3125  78.125  78.9375  79.0   \n",
       "PASS        10.0  89.125  6.010696  80.0  84.3750  90.625  93.4375  97.5   \n",
       "\n",
       "          Hours                                                     \n",
       "          count   mean       std   min     25%    50%     75%  max  \n",
       "Pass Fail                                                           \n",
       "FAIL       10.0  1.775  0.982132  0.50  1.0625  1.625  2.3750  3.5  \n",
       "PASS       10.0  3.800  1.246105  1.75  2.8750  4.125  4.6875  5.5  "
      ]
     },
     "execution_count": 3,
     "metadata": {},
     "output_type": "execute_result"
    },
    {
     "data": {
      "image/png": "[encoded data removed]",
      "text/plain": [
       "<matplotlib.figure.Figure at 0x111094d68>"
      ]
     },
     "metadata": {},
     "output_type": "display_data"
    }
   ],
   "source": [
    "sns.boxplot(x='Pass Fail', y='Hours', data=grades)\n",
    "grades.groupby('Pass Fail').describe()"
   ]
  },
  {
   "cell_type": "markdown",
   "metadata": {},
   "source": [
    "Looking at the data, it looks look students that only studied a couple of hours or less failed the exam.  Students that studied around 4 or more hours had the highest probability of passing."
   ]
  },
  {
   "cell_type": "markdown",
   "metadata": {},
   "source": [
    "## Question 2) _What are your predictions of a student passing if they spend 3.1 hours studying and if they spend 7 hours studying?_"
   ]
  },
  {
   "cell_type": "markdown",
   "metadata": {},
   "source": [
    "Lets create a [Logistic Regression](http://scikit-learn.org/stable/modules/generated/sklearn.linear_model.LogisticRegression.html) model to help us answer this question."
   ]
  },
  {
   "cell_type": "code",
   "execution_count": 4,
   "metadata": {},
   "outputs": [
    {
     "name": "stdout",
     "output_type": "stream",
     "text": [
      "Coefficients are  [[-0.92419996  0.75602391]]\n",
      "Checking the y-intercept  [-0.92419996]\n",
      "Score is  0.75\n"
     ]
    }
   ],
   "source": [
    "lr = LogisticRegression()\n",
    "# Required input variables to LinearRegression\n",
    "# X : {array-like, sparse matrix}, shape (n_samples, n_features)\n",
    "# y : array-like, shape (n_samples,)\n",
    "X = np.column_stack((np.ones(len(grades)), grades['Hours']))\n",
    "y = grades['Pass Fail']\n",
    "lr.fit(X, y)\n",
    "print(\"Coefficients are \", lr.coef_)\n",
    "# Note intercept is beta0 given above\n",
    "print(\"Checking the y-intercept \", lr.intercept_)\n",
    "# Note the score is not retunred by the LinearRegression object. It has to be computed from the input.\n",
    "print(\"Score is \", lr.score(X, y))"
   ]
  },
  {
   "cell_type": "markdown",
   "metadata": {},
   "source": [
    "Our model's mean accuracy is `0.75`.  Lets use it to answer to predict if a student will pass the exam for the given data points."
   ]
  },
  {
   "cell_type": "code",
   "execution_count": 5,
   "metadata": {},
   "outputs": [
    {
     "name": "stdout",
     "output_type": "stream",
     "text": [
      "Probability of student passing if they spend 3.1 hours studying: 62.13%\n",
      "Probability of student passing if they spend 7.0 hours studying: 96.90%\n"
     ]
    }
   ],
   "source": [
    "for hours in [3.1, 7.0]:\n",
    "    [prob_fail, prob_pass] = lr.predict_proba([[1, hours]])[0]\n",
    "    print(\"Probability of student passing if they spend %0.1f hours studying: %0.02f%%\" % (hours, prob_pass*100))\n"
   ]
  },
  {
   "cell_type": "markdown",
   "metadata": {},
   "source": [
    "## Question 3) _How is the number of hours spent studying related to the grade the student earned?_"
   ]
  },
  {
   "cell_type": "markdown",
   "metadata": {},
   "source": [
    "Lets use `seaborn`'s [lmplot() function](https://seaborn.pydata.org/generated/seaborn.lmplot.html) to look at the relationship between hours spent studying, and the grade the student earned."
   ]
  },
  {
   "cell_type": "code",
   "execution_count": 6,
   "metadata": {},
   "outputs": [
    {
     "name": "stdout",
     "output_type": "stream",
     "text": [
      "Correlation between hours spent studying and grade the student earned: 0.95\n"
     ]
    },
    {
     "data": {
      "image/png": "[encoded data removed]",
      "text/plain": [
       "<matplotlib.figure.Figure at 0x114295fd0>"
      ]
     },
     "metadata": {},
     "output_type": "display_data"
    }
   ],
   "source": [
    "sns.lmplot('Hours', 'Grades', hue='Pass Fail', markers = ['+', 'o'], data=grades)\n",
    "corr = grades['Hours'].corr(grades['Grades'])\n",
    "print(\"Correlation between hours spent studying and grade the student earned: %0.02f\" % corr)"
   ]
  },
  {
   "cell_type": "markdown",
   "metadata": {},
   "source": [
    "There is an almost direct correlation between number of hours spent studying, and the grade the student earned (0.95 correlation).  However, there is a set of students that did study 2-3.5 hours and still earned just below a passing score."
   ]
  }
 ],
 "metadata": {
  "kernelspec": {
   "display_name": "Python 3",
   "language": "python",
   "name": "python3"
  },
  "language_info": {
   "codemirror_mode": {
    "name": "ipython",
    "version": 3
   },
   "file_extension": ".py",
   "mimetype": "text/x-python",
   "name": "python",
   "nbconvert_exporter": "python",
   "pygments_lexer": "ipython3",
   "version": "3.6.4"
  }
 },
 "nbformat": 4,
 "nbformat_minor": 2
}
